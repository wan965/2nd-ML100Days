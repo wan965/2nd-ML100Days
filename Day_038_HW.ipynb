{
 "cells": [
  {
   "cell_type": "markdown",
   "metadata": {},
   "source": [
    "## [作業重點]\n",
    "使用 Sklearn 中的線性迴歸模型，來訓練各種資料集，務必了解送進去模型訓練的**資料型態**為何，也請了解模型中各項參數的意義"
   ]
  },
  {
   "cell_type": "markdown",
   "metadata": {},
   "source": [
    "## 作業\n",
    "試著使用 sklearn datasets 的其他資料集 (wine, boston, ...)，來訓練自己的線性迴歸模型。"
   ]
  },
  {
   "cell_type": "markdown",
   "metadata": {},
   "source": [
    "### HINT: 注意 label 的型態，確定資料集的目標是分類還是回歸，在使用正確的模型訓練！"
   ]
  },
  {
   "cell_type": "code",
   "execution_count": 30,
   "metadata": {},
   "outputs": [],
   "source": [
    "import numpy as np\n",
    "import matplotlib.pyplot as plt\n",
    "from sklearn import datasets, linear_model\n",
    "from sklearn.model_selection import train_test_split\n",
    "from sklearn.metrics import mean_squared_error, r2_score, accuracy_score"
   ]
  },
  {
   "cell_type": "code",
   "execution_count": 4,
   "metadata": {},
   "outputs": [],
   "source": [
    "wine=datasets.load_wine()\n",
    "X=wine['data']\n",
    "Y=wine['target']"
   ]
  },
  {
   "cell_type": "code",
   "execution_count": 16,
   "metadata": {},
   "outputs": [],
   "source": [
    "trainX, testX, trainY, testY = train_test_split(X, Y, test_size=0.3, random_state=5)"
   ]
  },
  {
   "cell_type": "code",
   "execution_count": 12,
   "metadata": {},
   "outputs": [
    {
     "data": {
      "text/plain": [
       "array([2, 1, 2, 1, 0, 1, 1, 0, 2, 0, 1, 2, 2, 0, 0, 1, 2, 1, 1, 2, 2, 2,\n",
       "       1, 0, 0, 0, 1, 1, 0, 1, 2, 1, 0, 0, 2, 1, 0, 2, 2, 2, 1, 1, 2, 2,\n",
       "       2, 1, 1, 1, 1, 1, 2, 1, 0, 1, 1, 1, 0, 0, 1, 0, 0, 2, 2, 0, 2, 0,\n",
       "       2, 1, 0, 1, 0, 2, 1, 1, 0, 1, 1, 1, 1, 0, 1, 1, 1, 2, 2, 0, 2, 0,\n",
       "       1, 0, 0, 2, 1, 1, 2, 0, 0, 0, 2, 1, 1, 0, 1, 2, 1, 2, 1, 1, 0, 1,\n",
       "       0, 0, 1, 1, 2, 0, 2, 1, 2, 0, 1, 2, 1, 1])"
      ]
     },
     "execution_count": 12,
     "metadata": {},
     "output_type": "execute_result"
    }
   ],
   "source": [
    "trainY"
   ]
  },
  {
   "cell_type": "code",
   "execution_count": 55,
   "metadata": {},
   "outputs": [
    {
     "name": "stderr",
     "output_type": "stream",
     "text": [
      "/usr/local/lib/python3.7/dist-packages/sklearn/linear_model/logistic.py:432: FutureWarning: Default solver will be changed to 'lbfgs' in 0.22. Specify a solver to silence this warning.\n",
      "  FutureWarning)\n",
      "/usr/local/lib/python3.7/dist-packages/sklearn/linear_model/logistic.py:469: FutureWarning: Default multi_class will be changed to 'auto' in 0.22. Specify the multi_class option to silence this warning.\n",
      "  \"this warning.\", FutureWarning)\n"
     ]
    },
    {
     "data": {
      "text/plain": [
       "array([0, 1, 0, 0, 2, 2, 0, 0, 1, 1, 0, 0, 2, 1, 2, 0, 1, 0, 1, 0, 0, 0,\n",
       "       0, 1, 1, 1, 0, 1, 2, 0, 1, 1, 0, 0, 2, 2, 0, 2, 2, 1, 1, 2, 2, 0,\n",
       "       2, 1, 0, 2, 0, 1, 0, 1, 1, 0])"
      ]
     },
     "execution_count": 55,
     "metadata": {},
     "output_type": "execute_result"
    }
   ],
   "source": [
    "LogisticModel=linear_model.LogisticRegression()\n",
    "LogisticModel.fit(trainX, trainY)\n",
    "Y_pred=LogisticModel.predict(testX)\n",
    "Y_pred"
   ]
  },
  {
   "cell_type": "code",
   "execution_count": 27,
   "metadata": {},
   "outputs": [
    {
     "data": {
      "text/plain": [
       "0.9259259259259259"
      ]
     },
     "execution_count": 27,
     "metadata": {},
     "output_type": "execute_result"
    }
   ],
   "source": [
    "accuracy_score(testY, Y_pred)"
   ]
  },
  {
   "cell_type": "code",
   "execution_count": 50,
   "metadata": {},
   "outputs": [],
   "source": [
    "boston=datasets.load_boston()\n",
    "X=boston['data']\n",
    "Y=boston['target']"
   ]
  },
  {
   "cell_type": "code",
   "execution_count": 63,
   "metadata": {},
   "outputs": [
    {
     "data": {
      "text/plain": [
       "array([37.38997666, 31.56794193, 27.13373886,  6.55117625, 33.69310848,\n",
       "        5.54919368, 27.10005629, 29.82980986, 26.44622421, 22.38873525,\n",
       "       32.24739998, 21.74892356, 23.42369575, 33.57974607, 28.31450393,\n",
       "       15.36502049,  0.17012738, 18.7085528 , 14.6046344 , 10.80263809,\n",
       "        3.18552876, 19.39248482, 38.33235502, 24.40456217, 31.99950162,\n",
       "       11.35200963, 24.922899  , 23.39214933, 22.75072363, 21.09584945,\n",
       "       16.12295584,  7.53544865, 17.59797845, 22.82206974, 29.26790527,\n",
       "       18.8053497 , 28.33669828,  8.60467923, 41.63227506, 34.1975156 ,\n",
       "       20.11767808,  4.30987094, 29.61105614, 11.92148423, 27.22215387,\n",
       "       30.94537934, -6.26468581, 19.96366597, 21.59383857, 13.6435966 ,\n",
       "       20.49852424, 19.9376828 , 23.65383649, 13.51654696, 17.64433366,\n",
       "       25.20135154, 35.31489968, 15.25337249, 28.51004736, 21.85251949,\n",
       "       20.66385004, 26.03157156, 14.71628387, 32.34648274, 20.7126339 ,\n",
       "       12.16905109, 19.60990611, 25.19479418, 21.78988729, 21.17266494,\n",
       "       20.57070081, 26.68227465, 17.63434069, 18.59684499, 18.86455871,\n",
       "       26.11257081, 21.88385267, 15.793604  , 35.12291554, 17.93011447,\n",
       "       22.37405511, 39.43214362, 22.35861502, 14.7507671 , 25.59974297,\n",
       "       17.26344627, 18.6473901 , 10.02604186, 19.73583673, 17.68313935,\n",
       "       36.1822477 , 17.68437765, 21.02084355, 19.04024362, 24.81013241,\n",
       "       28.12272433, 12.39973572, 22.77846491, 21.04324499, 13.37145427,\n",
       "       22.99496967, 21.65095367, 14.29478212, 42.98444441,  1.88873893,\n",
       "       22.04561725, 18.30994318, 22.32471878, 29.26385774, 18.40940009,\n",
       "       27.87313397, 24.58293337, 20.28832021, 33.01026937, 19.69807606,\n",
       "       12.88856949, 22.65873567, 18.391881  , 19.59475756, 16.38618295,\n",
       "       21.74914987, 35.4807256 , 22.22602615, 20.44598641, 24.59240953,\n",
       "       25.37629203, 20.42102587, 23.04928167, 23.45282577, 41.10189023,\n",
       "       37.84707565, 27.52376183, 12.55002664, 16.13583675, 18.27122382,\n",
       "       21.68630022, 15.70856247,  5.66627914, 24.09941292, 30.56521927,\n",
       "       23.049538  , 18.16175634, 16.15492579, 21.71773179, 35.0679525 ,\n",
       "       23.20088585, 30.22064179, 18.23305467, 22.29744428, 29.32667247,\n",
       "       13.6076674 , 31.67029311])"
      ]
     },
     "execution_count": 63,
     "metadata": {},
     "output_type": "execute_result"
    }
   ],
   "source": [
    "trainX, testX, trainY, testY = train_test_split(X, Y, test_size=0.3, random_state=5)\n",
    "linearModel=linear_model.LinearRegression()\n",
    "linearModel.fit(trainX, trainY)\n",
    "Y_pred=linearModel.predict(testX)\n",
    "Y_pred"
   ]
  },
  {
   "cell_type": "code",
   "execution_count": 67,
   "metadata": {},
   "outputs": [
    {
     "data": {
      "text/plain": [
       "30.697037704088483"
      ]
     },
     "execution_count": 67,
     "metadata": {},
     "output_type": "execute_result"
    }
   ],
   "source": [
    "mean_squared_error(testY, Y_pred)"
   ]
  },
  {
   "cell_type": "code",
   "execution_count": 68,
   "metadata": {},
   "outputs": [
    {
     "data": {
      "text/plain": [
       "0.6771696999851703"
      ]
     },
     "execution_count": 68,
     "metadata": {},
     "output_type": "execute_result"
    }
   ],
   "source": [
    "r2_score(testY, Y_pred)"
   ]
  },
  {
   "cell_type": "code",
   "execution_count": null,
   "metadata": {},
   "outputs": [],
   "source": []
  }
 ],
 "metadata": {
  "kernelspec": {
   "display_name": "Python 3",
   "language": "python",
   "name": "python3"
  },
  "language_info": {
   "codemirror_mode": {
    "name": "ipython",
    "version": 3
   },
   "file_extension": ".py",
   "mimetype": "text/x-python",
   "name": "python",
   "nbconvert_exporter": "python",
   "pygments_lexer": "ipython3",
   "version": "3.7.3"
  }
 },
 "nbformat": 4,
 "nbformat_minor": 2
}
